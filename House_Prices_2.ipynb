{
 "cells": [
  {
   "cell_type": "code",
   "execution_count": null,
   "metadata": {},
   "outputs": [],
   "source": [
    "df=pd.read_csv('train.csv')"
   ]
  },
  {
   "cell_type": "code",
   "execution_count": null,
   "metadata": {},
   "outputs": [],
   "source": [
    "df.head()"
   ]
  },
  {
   "cell_type": "code",
   "execution_count": null,
   "metadata": {},
   "outputs": [],
   "source": [
    "df.info()"
   ]
  },
  {
   "cell_type": "markdown",
   "metadata": {},
   "source": [
    "* Observations:\n",
    "* 1460 rows.\n",
    "* 81 Variables.\n",
    "* Three(3) vars float64.\n",
    "* 35 vars int64.\n",
    "* 43 vars objects."
   ]
  },
  {
   "cell_type": "code",
   "execution_count": null,
   "metadata": {},
   "outputs": [],
   "source": [
    "#df.select_dtypes(\"number\").columns --> number get data type int and float"
   ]
  },
  {
   "cell_type": "code",
   "execution_count": null,
   "metadata": {},
   "outputs": [],
   "source": [
    "df.select_dtypes(\"int\").columns"
   ]
  },
  {
   "cell_type": "code",
   "execution_count": null,
   "metadata": {},
   "outputs": [],
   "source": [
    "df.select_dtypes(\"float\").columns"
   ]
  },
  {
   "cell_type": "code",
   "execution_count": null,
   "metadata": {},
   "outputs": [],
   "source": [
    "df.select_dtypes(\"object\").columns"
   ]
  },
  {
   "cell_type": "markdown",
   "metadata": {},
   "source": [
    "* selected the features that I have considered important features that to not have a wide table as an output of describe function."
   ]
  },
  {
   "cell_type": "code",
   "execution_count": null,
   "metadata": {},
   "outputs": [],
   "source": [
    "cols_sum_stat = [\n",
    "    \"LotFrontage\",\n",
    "    \"LotArea\",\n",
    "    \"MasVnrArea\",\n",
    "    \"TotalBsmtSF\",\n",
    "    \"1stFlrSF\",\n",
    "    \"2ndFlrSF\",\n",
    "    \"GrLivArea\",\n",
    "    \"BsmtFullBath\",\n",
    "    \"FullBath\",\n",
    "    \"BedroomAbvGr\",\n",
    "    \"KitchenAbvGr\",\n",
    "    \"GarageArea\",\n",
    "    \"WoodDeckSF\",\n",
    "    \"OpenPorchSF\",\n",
    "    \"SalePrice\",\n",
    "]\n",
    "\n",
    "df[cols_sum_stat].describe().round()\n"
   ]
  },
  {
   "cell_type": "markdown",
   "metadata": {},
   "source": [
    "* Many features have zero ,SalePrice ranges from 34900 to 755000, mean of 180921 and median or 50% of 163000 ,we have to check the GrLivArea ranges from 334 to 5642.\n",
    "* LotArea ranges from 1300 to 215245.\n",
    "* BedroomAbvGr ranges from zero to eight."
   ]
  },
  {
   "cell_type": "markdown",
   "metadata": {},
   "source": [
    "###  check  missing values"
   ]
  },
  {
   "cell_type": "code",
   "execution_count": null,
   "metadata": {},
   "outputs": [],
   "source": [
    "#missing data\n",
    "total = df.isna().sum()[df.isna().sum()>0].sort_values(ascending=False)\n",
    "percent = (df.isna().sum()[df.isna().sum()>0]/df.isna().sum()[df.isna().sum()>0].count()).sort_values(ascending=False)\n",
    "missing_data = pd.concat([total, percent], axis=1, keys=['Total', 'Percent'])\n",
    "missing_data"
   ]
  },
  {
   "cell_type": "markdown",
   "metadata": {},
   "source": [
    "* the features in \"cols_corr_out\" list, i think it will be more readable!"
   ]
  },
  {
   "cell_type": "code",
   "execution_count": null,
   "metadata": {},
   "outputs": [],
   "source": [
    "cols_corr_out = [\n",
    "    \"Id\",\n",
    "    \"MSSubClass\",\n",
    "    \"OverallCond\",\n",
    "    \"Fireplaces\",\n",
    "    \"PoolArea\",\n",
    "    \"MiscVal\",\n",
    "    \"MoSold\",\n",
    "    \"YrSold\",\n",
    "    \"BsmtHalfBath\",\n",
    "    \"BsmtFinSF2\",\n",
    "    \"LowQualFinSF\",\n",
    "    \"EnclosedPorch\",\n",
    "]"
   ]
  },
  {
   "cell_type": "code",
   "execution_count": null,
   "metadata": {},
   "outputs": [],
   "source": [
    "corr_mat = (\n",
    "    df.loc[:, ~df.columns.isin(cols_corr_out)]\n",
    "    .select_dtypes(\"int64\")\n",
    "    .corr()\n",
    ")\n",
    "corr_mat[[\"SalePrice\"]].sort_values(\"SalePrice\", ascending=False).style.format(\n",
    "    precision=3\n",
    ").background_gradient(cmap=\"Greys\")"
   ]
  },
  {
   "cell_type": "markdown",
   "metadata": {},
   "source": [
    "* Correlation between target variable and other variables:\n",
    "* OverallQual: 0.790\n",
    "* GrLivArea: 0.708\n",
    "* GarageCars: 0.640\n",
    "* GarageArea: 0.623\n",
    "* TotalBsmtSF: 0.613\n",
    "* 1stFlrSF: 0.605\n",
    "* FullBath: 0.560\n",
    "* TotRmsAbvGrd:0.533\n",
    "* YearBuilt: 0.522\n",
    "* YearRemodAdd:0.507\n"
   ]
  },
  {
   "cell_type": "code",
   "execution_count": null,
   "metadata": {},
   "outputs": [],
   "source": [
    "mask = np.triu(np.ones_like(corr_mat.corr()))\n",
    "fig, ax = plt.subplots(figsize=(14, 12))\n",
    "sns.heatmap(\n",
    "    corr_mat,\n",
    "    square=False,\n",
    "    cmap=\"Greys\",\n",
    "    mask=mask,\n",
    "    annot=True,\n",
    "    annot_kws={\"size\": 8},\n",
    "    fmt=\".2f\",\n",
    ")\n",
    "plt.xticks(fontsize=7)\n",
    "plt.yticks(fontsize=7)\n",
    "plt.show()"
   ]
  },
  {
   "cell_type": "markdown",
   "metadata": {},
   "source": [
    "* many variables are correlated together, and most of them are practically obvious to be correlated such like:\n",
    "* \"1stFlSf\" and \"TotalBsmtSF\": 0.82\n",
    "\n",
    "* \"TotalRmsAbvGrd\" and \"GrLivArea\": 0.83\n",
    "\n",
    "* \"GarageArea\" and \"GarageCars\": 0.88\n",
    "\n",
    "* \"GrLivArea\" and \"2ndFlrSF\": 0.69\n",
    "\n",
    "* \"TotalRmsAbvGrd\" and \"BedroomAbvGr\": 0.68\n",
    "\n",
    "* \"BsmtFullBath\" and \"BsmtFinSF1\": 0.65\n",
    "\n",
    "* \"FullBath\" and \"GrLivArea\": 0.63\n",
    "\n",
    "* \"YearBuilt\" and \"OverallQual\": 0.57\n",
    "\n",
    "* \"YearRemodAdd\" and \"YearBuilt\": 0.59\n",
    "\n",
    "* \"FullBath\" and \"YearBuilt\": 0.59\n"
   ]
  },
  {
   "cell_type": "markdown",
   "metadata": {},
   "source": [
    "###  Feature-Engineering\n"
   ]
  },
  {
   "cell_type": "markdown",
   "metadata": {},
   "source": [
    "* Total Square Feet"
   ]
  },
  {
   "cell_type": "markdown",
   "metadata": {},
   "source": [
    "* I will add up the living areas that above and below ground level to get the total living area"
   ]
  },
  {
   "cell_type": "code",
   "execution_count": null,
   "metadata": {},
   "outputs": [],
   "source": [
    "df[\"Total_Square_Feet\"] = (\n",
    "    df[\"GrLivArea\"] + df[\"TotalBsmtSF\"]\n",
    ")\n",
    "df[\"Total_Square_Feet\"]"
   ]
  },
  {
   "cell_type": "markdown",
   "metadata": {},
   "source": [
    "#### Total number of Bathrooms"
   ]
  },
  {
   "cell_type": "markdown",
   "metadata": {},
   "source": [
    "* Total number of Bathrooms\n",
    "* There are four(4) Features of bathrooms, Full bathrooms, and Half Bathrooms, however, I will consider them as one type of \"Bathroom\" and add them together!"
   ]
  },
  {
   "cell_type": "code",
   "execution_count": null,
   "metadata": {},
   "outputs": [],
   "source": [
    "df[\"Total_number_of_Bathrooms\"] = (\n",
    "    df[\"FullBath\"]\n",
    "    + (df[\"HalfBath\"])\n",
    "    + df[\"BsmtFullBath\"]\n",
    "    + (df[\"BsmtHalfBath\"])\n",
    ")\n",
    "\n",
    "df[\"Total_number_of_Bathrooms\"].describe().round()"
   ]
  },
  {
   "cell_type": "markdown",
   "metadata": {},
   "source": [
    "* min number of bathrooms: 1\n",
    "\n",
    "* max number of bathrooms: 6"
   ]
  },
  {
   "cell_type": "markdown",
   "metadata": {},
   "source": [
    "#### House Age"
   ]
  },
  {
   "cell_type": "markdown",
   "metadata": {},
   "source": [
    "* i will be using YearBuilt and YearSold to find out the House Age, however I will create another house Age variable using YearRemodAdd."
   ]
  },
  {
   "cell_type": "code",
   "execution_count": 1,
   "metadata": {},
   "outputs": [
    {
     "ename": "NameError",
     "evalue": "name 'df' is not defined",
     "output_type": "error",
     "traceback": [
      "\u001b[1;31m---------------------------------------------------------------------------\u001b[0m",
      "\u001b[1;31mNameError\u001b[0m                                 Traceback (most recent call last)",
      "\u001b[1;32m<ipython-input-1-65e103a3b32e>\u001b[0m in \u001b[0;36m<module>\u001b[1;34m\u001b[0m\n\u001b[1;32m----> 1\u001b[1;33m \u001b[0mdf\u001b[0m\u001b[1;33m[\u001b[0m\u001b[1;34m\"House_Age\"\u001b[0m\u001b[1;33m]\u001b[0m \u001b[1;33m=\u001b[0m \u001b[0mdf\u001b[0m\u001b[1;33m[\u001b[0m\u001b[1;34m\"YrSold\"\u001b[0m\u001b[1;33m]\u001b[0m \u001b[1;33m-\u001b[0m \u001b[0mdf\u001b[0m\u001b[1;33m[\u001b[0m\u001b[1;34m\"YearBuilt\"\u001b[0m\u001b[1;33m]\u001b[0m\u001b[1;33m\u001b[0m\u001b[1;33m\u001b[0m\u001b[0m\n\u001b[0m\u001b[0;32m      2\u001b[0m \u001b[1;33m\u001b[0m\u001b[0m\n\u001b[0;32m      3\u001b[0m df[\"House_Age_YearRemodAdd\"] = (\n\u001b[0;32m      4\u001b[0m     \u001b[0mdf\u001b[0m\u001b[1;33m[\u001b[0m\u001b[1;34m\"YrSold\"\u001b[0m\u001b[1;33m]\u001b[0m \u001b[1;33m-\u001b[0m \u001b[0mdf\u001b[0m\u001b[1;33m[\u001b[0m\u001b[1;34m\"YearRemodAdd\"\u001b[0m\u001b[1;33m]\u001b[0m\u001b[1;33m\u001b[0m\u001b[1;33m\u001b[0m\u001b[0m\n\u001b[0;32m      5\u001b[0m )\n",
      "\u001b[1;31mNameError\u001b[0m: name 'df' is not defined"
     ]
    }
   ],
   "source": [
    "df[\"House_Age\"] = df[\"YrSold\"] - df[\"YearBuilt\"]\n",
    "\n",
    "df[\"House_Age_YearRemodAdd\"] = (\n",
    "    df[\"YrSold\"] - df[\"YearRemodAdd\"]\n",
    ")\n",
    "\n",
    "df[[\"House_Age\"]].describe().round(), df[\n",
    "    [\"House_Age_YearRemodAdd\"]\n",
    "].describe().round()"
   ]
  },
  {
   "cell_type": "markdown",
   "metadata": {},
   "source": [
    "* mean house age: 23.0\n",
    "\n",
    "* median house age: 35.0\n",
    "\n",
    "* min house age: Zero(0)\n",
    "\n",
    "* max house age: 136.0"
   ]
  },
  {
   "cell_type": "markdown",
   "metadata": {},
   "source": [
    "* Let us check the min of -One(-1) in House_Age_YearRemodAdd.\n",
    "maybe this house has been sold while the house is under construction or renovation SO let  check"
   ]
  },
  {
   "cell_type": "code",
   "execution_count": null,
   "metadata": {},
   "outputs": [],
   "source": [
    "df[df[\"House_Age\"] == 0].loc[\n",
    "    :, [\"YearBuilt\", \"YearRemodAdd\", \"YrSold\", \"House_Age\", \"House_Age_YearRemodAdd\"]\n",
    "].sort_values(\"House_Age_YearRemodAdd\").head()"
   ]
  },
  {
   "cell_type": "markdown",
   "metadata": {},
   "source": [
    "* We do not know whether this house with -One(-1) has been sold while it was under renovation, or is a data entry issue"
   ]
  },
  {
   "cell_type": "markdown",
   "metadata": {},
   "source": [
    "###  Neighborhood"
   ]
  },
  {
   "cell_type": "markdown",
   "metadata": {},
   "source": [
    "* For plotting purpose, I am going to select five(5) out of the observations in \"Neighborhood\" feature, and lump the other observations under one category named as \"other\"."
   ]
  },
  {
   "cell_type": "code",
   "execution_count": null,
   "metadata": {},
   "outputs": [],
   "source": [
    "(df[[\"Neighborhood\"]]\n",
    "     .value_counts()\n",
    "     .nlargest(20)\n",
    "     .reset_index()\n",
    "     .loc[:, \"Neighborhood\"].to_list())\n"
   ]
  },
  {
   "cell_type": "code",
   "execution_count": null,
   "metadata": {},
   "outputs": [],
   "source": [
    "top_5_Neighborhood = [\n",
    "    \"Edwards\",\n",
    "    \"NridgHt\",\n",
    "    \"NoRidge\",\n",
    "    \"OldTown\",\n",
    "    \"CollgCr\"\n",
    "]"
   ]
  },
  {
   "cell_type": "code",
   "execution_count": null,
   "metadata": {},
   "outputs": [],
   "source": [
    "df[\"Neighborhood\"] = np.where(\n",
    "    df[\"Neighborhood\"].isin(top_5_Neighborhood),\n",
    "    df[\"Neighborhood\"],\n",
    "    \"Other\",\n",
    ")"
   ]
  },
  {
   "cell_type": "markdown",
   "metadata": {},
   "source": [
    "##### Analyzing the Target variable \"SalePrice\""
   ]
  },
  {
   "cell_type": "code",
   "execution_count": null,
   "metadata": {},
   "outputs": [],
   "source": [
    "df[[\"SalePrice\"]].describe().round()"
   ]
  },
  {
   "cell_type": "code",
   "execution_count": null,
   "metadata": {},
   "outputs": [],
   "source": [
    "px.histogram(df,x='SalePrice')"
   ]
  },
  {
   "cell_type": "markdown",
   "metadata": {},
   "source": [
    "* Data is positively skewed. The mean is greater than the median \n",
    "* he outliers located in the right side, We may use log transformation to reduces the skewness \n",
    "* The majority of data points are clustered between 100K and 200K "
   ]
  },
  {
   "cell_type": "code",
   "execution_count": null,
   "metadata": {},
   "outputs": [],
   "source": [
    "df[\"SalePriceLog\"] = np.log(df[\"SalePrice\"])\n",
    "df[\"GrLivAreaLog\"] = np.log(df[\"GrLivArea\"])\n",
    "df[\"LotAreaLog\"] = np.log(df[\"LotArea\"])\n",
    "df[\n",
    "    [\"SalePrice\", \"SalePriceLog\", \"GrLivArea\", \"GrLivAreaLog\", \"LotArea\", \"LotAreaLog\"]\n",
    "]"
   ]
  },
  {
   "cell_type": "markdown",
   "metadata": {},
   "source": [
    "###### SalePrice\" vs \"Total_Square_Feet\" by  SaleCondition"
   ]
  },
  {
   "cell_type": "code",
   "execution_count": null,
   "metadata": {},
   "outputs": [],
   "source": [
    "#to_plot(\n",
    " #   df=df,\n",
    "  #  x_var=\"Total_Square_Feet\",\n",
    "   # y_var=\"SalePrice\",\n",
    "    #hue_var=\"SaleCondition\",\n",
    "    #palette_set=my_palette,\n",
    "#)\n",
    "px.line(df,x=\"Total_Square_Feet\",y=\"SalePrice\",color='SaleCondition')"
   ]
  },
  {
   "cell_type": "markdown",
   "metadata": {},
   "source": [
    "* The majority of sales condition is \"Normal\" sales condition\n",
    "\n",
    "* We have extreme two(2) outliers related to Partial sales condition that we need to check them\n",
    "\n",
    "* Mainly house area Square Feet is one of the important features to determine the sale price\n",
    "\n",
    "* We know from the correlation matrix that GrLivAra and SalePrice vars are highly correlated 0.709\n"
   ]
  },
  {
   "cell_type": "markdown",
   "metadata": {},
   "source": [
    "###### SalePrice\"-vs-\"House_Age\""
   ]
  },
  {
   "cell_type": "code",
   "execution_count": null,
   "metadata": {},
   "outputs": [],
   "source": [
    "px.line(df,x=\"House_Age\",y=\"SalePrice\")"
   ]
  },
  {
   "cell_type": "markdown",
   "metadata": {},
   "source": [
    "* We can notice kind of clusters\n",
    "- From ~0 to ~20.\n",
    "- From ~25 to ~60.\n",
    "- From ~80 to ~100.\n",
    "\n",
    "* We have many data points above ~100 years with a high price, that is assumingly connected to another correlated feature like:\n",
    "- OverallQual-SalePrice: 0.791\n",
    "- GrLivAra-SalePrice: 0.709\n",
    "- YearBuilt-SalePrice: 0.523\n",
    "- YearRemodAdd-SalePrice: 0.507"
   ]
  },
  {
   "cell_type": "markdown",
   "metadata": {},
   "source": [
    "###### \"SalePrice\" vs \"Total_Square_Feet\" by \"Neighborhood\""
   ]
  },
  {
   "cell_type": "code",
   "execution_count": null,
   "metadata": {},
   "outputs": [],
   "source": [
    "px.line(df,x=\"Total_Square_Feet\",y=\"SalePrice\",color='Neighborhood')"
   ]
  },
  {
   "cell_type": "markdown",
   "metadata": {},
   "source": [
    "*  It is clear that the Neighborhood feature has an important role to play in determining the sale price\n",
    "\n",
    "* The two(2) extreme data points are related to Edwards Neighborhood category\n",
    "\n",
    "* The data points representing the highest price are related to NoRidge Neighborhood category\n",
    "\n"
   ]
  },
  {
   "cell_type": "markdown",
   "metadata": {},
   "source": [
    "###### create a table to have more information"
   ]
  },
  {
   "cell_type": "code",
   "execution_count": null,
   "metadata": {},
   "outputs": [],
   "source": [
    "df[[\n",
    "        \"SalePrice\",\n",
    "        \"GrLivArea\",\n",
    "        \"LotArea\",\n",
    "        \"PoolArea\",\n",
    "        \"Total_Square_Feet\",\n",
    "        \"YearBuilt\",\n",
    "        \"FullBath\",\n",
    "        \"KitchenQual\",\n",
    "        \"OverallQual\",\n",
    "        \"ExterCond\",\n",
    "        \"MSSubClass\",\n",
    "        \"Neighborhood\",\n",
    "        \"Utilities\",\n",
    "        \"Foundation\",\n",
    "    ]\n",
    "].nlargest(columns=\"Total_Square_Feet\", n=10).style.background_gradient()"
   ]
  },
  {
   "cell_type": "markdown",
   "metadata": {},
   "source": [
    "* Through the above table we see that mainly the NoRidge Neighborhood category has defeats the Edwards category, although the PoolArea and FullBath have a little influence over that matter as well."
   ]
  },
  {
   "cell_type": "markdown",
   "metadata": {},
   "source": [
    "# Relationship with categorical variables"
   ]
  },
  {
   "cell_type": "markdown",
   "metadata": {},
   "source": [
    "* \"SalePrice\" vs \"SaleCondition\" by \"RoofStyle\""
   ]
  },
  {
   "cell_type": "code",
   "execution_count": null,
   "metadata": {},
   "outputs": [],
   "source": [
    "px.line(df,x=\"SaleCondition\",y=\"SalePrice\",color='RoofStyle')"
   ]
  },
  {
   "cell_type": "markdown",
   "metadata": {},
   "source": [
    "* SalePrice\" vs \"OverallQual\" by \"SaleCondition\""
   ]
  },
  {
   "cell_type": "code",
   "execution_count": null,
   "metadata": {},
   "outputs": [],
   "source": [
    "df[[\"OverallQual\"]].value_counts(normalize=True).round(\n",
    "    3\n",
    ").reset_index().rename(columns={0: \"Percentage\"}).style.background_gradient()"
   ]
  },
  {
   "cell_type": "code",
   "execution_count": null,
   "metadata": {},
   "outputs": [],
   "source": [
    "px.scatter(df,x=\"OverallQual\",y=\"SalePrice\")"
   ]
  },
  {
   "cell_type": "markdown",
   "metadata": {},
   "source": [
    "* About 70% of the data points in the OverallQual var are five(5), Six(6) and Seven(7) collectively\n"
   ]
  },
  {
   "cell_type": "markdown",
   "metadata": {},
   "source": [
    "###### \"SalePrice\" vs \"KitchenQual\" by \"Electrical\""
   ]
  },
  {
   "cell_type": "code",
   "execution_count": null,
   "metadata": {},
   "outputs": [],
   "source": [
    "px.bar(df,x=\"KitchenQual\",y=\"SalePrice\",color='Electrical')"
   ]
  },
  {
   "cell_type": "markdown",
   "metadata": {},
   "source": [
    "* SBrkr: Standard Circuit Breakers & Romex.\n",
    "* FuseA: Fuse Box over 60 AMP and all Romex wiring (Average).\n",
    "* FuseF: 60 AMP Fuse Box and mostly Romex wiring (Fair).\n",
    "* FuseP: 60 AMP Fuse Box and mostly knob & tube wiring (poor.\n",
    "* Mix: Mixed.\n"
   ]
  },
  {
   "cell_type": "markdown",
   "metadata": {},
   "source": [
    "* Standard Circuit Breaker based power protection system is more desirable by the buyer, and if we go deeply into the analysis we would find that all modern houses have equipped with this kind of power protection system!"
   ]
  },
  {
   "cell_type": "markdown",
   "metadata": {},
   "source": [
    "#### SalePrice\" relationship with various variable using FacetGrid Scatter Plot"
   ]
  },
  {
   "cell_type": "code",
   "execution_count": null,
   "metadata": {},
   "outputs": [],
   "source": [
    "def grid_plot(df, col_var, x_var, y_var, paint):\n",
    "\n",
    "    f_grid = sns.FacetGrid(\n",
    "        df,\n",
    "        col=col_var,\n",
    "        col_wrap=3,\n",
    "        height=3,\n",
    "        aspect=1.3,\n",
    "        sharex=True,\n",
    "        sharey=True,\n",
    "    )\n",
    "\n",
    "    f_grid.map_dataframe(\n",
    "        sns.scatterplot,\n",
    "        x=x_var,\n",
    "        y=y_var,\n",
    "        color=paint,\n",
    "        alpha=0.5,\n",
    "    ).set(ylim=(-0, None), xlim=(-0, None))\n",
    "\n",
    "    f_grid.set_titles(col_template=\"{col_var} ({col_name})\", size=10, c=\"#386087\")\n",
    "    f_grid.set_yticklabels(fontsize=8)\n",
    "    f_grid.set_xticklabels(fontsize=8)\n",
    "    for ax in f_grid.axes.flat:\n",
    "        ax.yaxis.set_major_formatter(ticker.EngFormatter())\n",
    "        ax.xaxis.set_major_formatter(ticker.EngFormatter())\n",
    "\n",
    "    f_grid.set_xlabels(label=x_var + \" (square feet)\", size=10)\n",
    "    f_grid.set_ylabels(label=\"$ \" + y_var, size=10)\n",
    "    return plt.show()\n",
    "\n"
   ]
  },
  {
   "cell_type": "markdown",
   "metadata": {},
   "source": [
    "#### \"SalePrice\" vs \"Total_Square_Feet\" by \"Foundation\""
   ]
  },
  {
   "cell_type": "code",
   "execution_count": null,
   "metadata": {},
   "outputs": [],
   "source": [
    "grid_plot(\n",
    "    df,\n",
    "    col_var=\"Foundation\",\n",
    "    x_var=\"Total_Square_Feet\",\n",
    "    y_var=\"SalePrice\",\n",
    "    paint=\"#008080\",\n",
    ")"
   ]
  },
  {
   "cell_type": "markdown",
   "metadata": {},
   "source": [
    "* \"Gas forced warm air furnace\" almost dominate all types of heating mentioned in this feature.\n",
    "\n",
    "* 18 data points for \"Gas hot water or steam heat\" and one(1) data point for \"Floor Furnace\"\n"
   ]
  },
  {
   "cell_type": "code",
   "execution_count": null,
   "metadata": {},
   "outputs": [],
   "source": [
    "pair_cols = [\n",
    "    \"SalePrice\",\n",
    "    \"Total_Square_Feet\",\n",
    "    \"OverallQual\",\n",
    "    \"TotalBsmtSF\",\n",
    "    \"FullBath\",\n",
    "    \"MasVnrArea\",\n",
    "]"
   ]
  },
  {
   "cell_type": "markdown",
   "metadata": {},
   "source": [
    "##### Plot pairwise relationships of the selected Six variables in the dataset"
   ]
  },
  {
   "cell_type": "code",
   "execution_count": null,
   "metadata": {},
   "outputs": [],
   "source": [
    "sns.pairplot(\n",
    "    usa_housing_df[pair_cols],\n",
    "    hue=\"OverallQual\",\n",
    "    palette=my_palette,\n",
    "    kind=\"scatter\",\n",
    "    diag_kind=\"kde\",\n",
    "    height=1.5,\n",
    "    aspect=1.5,\n",
    "    plot_kws={\"alpha\": 0.7},\n",
    ")\n",
    "plt.show()"
   ]
  },
  {
   "cell_type": "markdown",
   "metadata": {},
   "source": [
    "* * If we can deal with the outliers in a proper way, And consider the imbalanced proportions of observations in may features, we would have a big chance to build a solid model, however, we know that the house price is not related to the feature of this dataset, and the economy system and government decisions and legislation play a crucial role in this mater."
   ]
  },
  {
   "cell_type": "code",
   "execution_count": null,
   "metadata": {},
   "outputs": [],
   "source": []
  },
  {
   "cell_type": "code",
   "execution_count": null,
   "metadata": {},
   "outputs": [],
   "source": []
  },
  {
   "cell_type": "code",
   "execution_count": null,
   "metadata": {},
   "outputs": [],
   "source": []
  }
 ],
 "metadata": {
  "kernelspec": {
   "display_name": "Python 3",
   "language": "python",
   "name": "python3"
  },
  "language_info": {
   "codemirror_mode": {
    "name": "ipython",
    "version": 3
   },
   "file_extension": ".py",
   "mimetype": "text/x-python",
   "name": "python",
   "nbconvert_exporter": "python",
   "pygments_lexer": "ipython3",
   "version": "3.7.6"
  }
 },
 "nbformat": 4,
 "nbformat_minor": 4
}
